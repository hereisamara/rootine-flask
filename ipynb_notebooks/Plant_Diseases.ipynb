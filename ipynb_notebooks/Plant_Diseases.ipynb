{
  "nbformat": 4,
  "nbformat_minor": 0,
  "metadata": {
    "colab": {
      "provenance": [],
      "machine_shape": "hm",
      "gpuType": "L4",
      "toc_visible": true,
      "mount_file_id": "1q9BmoJqBVkrcTOMTbXrxZboq10Z_-wVk",
      "authorship_tag": "ABX9TyPL5zNeZKwS/6i4LLzMBqh3"
    },
    "kernelspec": {
      "name": "python3",
      "display_name": "Python 3"
    },
    "language_info": {
      "name": "python"
    },
    "accelerator": "GPU"
  },
  "cells": [
    {
      "cell_type": "markdown",
      "source": [
        "# Plant data preparation"
      ],
      "metadata": {
        "id": "MLoIidDB5TWR"
      }
    },
    {
      "cell_type": "code",
      "execution_count": null,
      "metadata": {
        "colab": {
          "base_uri": "https://localhost:8080/"
        },
        "id": "uckv4GmEQ8Ky",
        "outputId": "fe5c2047-bb85-4b52-8bd9-0a376fa60f95"
      },
      "outputs": [
        {
          "output_type": "stream",
          "name": "stdout",
          "text": [
            "Cloning into 'PlantDoc-Dataset'...\n",
            "remote: Enumerating objects: 2670, done.\u001b[K\n",
            "remote: Counting objects: 100% (42/42), done.\u001b[K\n",
            "remote: Compressing objects: 100% (20/20), done.\u001b[K\n",
            "remote: Total 2670 (delta 23), reused 40 (delta 22), pack-reused 2628\u001b[K\n",
            "Receiving objects: 100% (2670/2670), 932.92 MiB | 30.52 MiB/s, done.\n",
            "Resolving deltas: 100% (24/24), done.\n",
            "Updating files: 100% (2581/2581), done.\n"
          ]
        }
      ],
      "source": [
        "!git clone https://github.com/pratikkayal/PlantDoc-Dataset.git"
      ]
    },
    {
      "cell_type": "code",
      "source": [
        "!git clone https://github.com/spMohanty/PlantVillage-Dataset.git"
      ],
      "metadata": {
        "colab": {
          "base_uri": "https://localhost:8080/"
        },
        "id": "IHYK1aHOfhxR",
        "outputId": "6c3dae18-3820-4fb7-f177-ebf3904b68c0"
      },
      "execution_count": null,
      "outputs": [
        {
          "output_type": "stream",
          "name": "stdout",
          "text": [
            "Cloning into 'PlantVillage-Dataset'...\n",
            "remote: Enumerating objects: 163229, done.\u001b[K\n",
            "remote: Total 163229 (delta 0), reused 0 (delta 0), pack-reused 163229\u001b[K\n",
            "Receiving objects: 100% (163229/163229), 2.00 GiB | 28.69 MiB/s, done.\n",
            "Resolving deltas: 100% (99/99), done.\n",
            "Updating files: 100% (182401/182401), done.\n"
          ]
        }
      ]
    },
    {
      "cell_type": "code",
      "source": [
        "import os\n",
        "\n",
        "os.listdir(\"/content/drive/MyDrive/Integrated Project II/dataset_PV_PD/balanced_data/\")"
      ],
      "metadata": {
        "colab": {
          "base_uri": "https://localhost:8080/"
        },
        "id": "khmvDsaOa045",
        "outputId": "6f6b7eb4-0395-42db-cb62-9e9b28f7bc9d"
      },
      "execution_count": null,
      "outputs": [
        {
          "output_type": "execute_result",
          "data": {
            "text/plain": [
              "['healthy',\n",
              " 'scab',\n",
              " 'mosaic',\n",
              " 'yellow',\n",
              " 'mildew',\n",
              " 'mold',\n",
              " 'blight',\n",
              " 'spot',\n",
              " 'rust',\n",
              " 'spider_mites',\n",
              " 'rot']"
            ]
          },
          "metadata": {},
          "execution_count": 2
        }
      ]
    },
    {
      "cell_type": "code",
      "source": [
        "os.listdir(\"/content/PlantVillage-Dataset/raw/color/\")"
      ],
      "metadata": {
        "colab": {
          "base_uri": "https://localhost:8080/"
        },
        "id": "0E8Reseeg-_R",
        "outputId": "5b3c3f0a-2c5a-45fa-cc03-fa71d808b7e4"
      },
      "execution_count": null,
      "outputs": [
        {
          "output_type": "execute_result",
          "data": {
            "text/plain": [
              "['Soybean___healthy',\n",
              " 'Grape___Esca_(Black_Measles)',\n",
              " 'Apple___healthy',\n",
              " 'Tomato___Spider_mites Two-spotted_spider_mite',\n",
              " 'Apple___Black_rot',\n",
              " 'Corn_(maize)___Cercospora_leaf_spot Gray_leaf_spot',\n",
              " 'Grape___Black_rot',\n",
              " 'Tomato___Late_blight',\n",
              " 'Strawberry___healthy',\n",
              " 'Peach___Bacterial_spot',\n",
              " 'Tomato___Target_Spot',\n",
              " 'Squash___Powdery_mildew',\n",
              " 'Peach___healthy',\n",
              " 'Apple___Apple_scab',\n",
              " 'Tomato___Bacterial_spot',\n",
              " 'Tomato___healthy',\n",
              " 'Potato___Early_blight',\n",
              " 'Strawberry___Leaf_scorch',\n",
              " 'Potato___Late_blight',\n",
              " 'Pepper,_bell___healthy',\n",
              " 'Grape___Leaf_blight_(Isariopsis_Leaf_Spot)',\n",
              " 'Corn_(maize)___healthy',\n",
              " 'Tomato___Early_blight',\n",
              " 'Blueberry___healthy',\n",
              " 'Raspberry___healthy',\n",
              " 'Cherry_(including_sour)___healthy',\n",
              " 'Apple___Cedar_apple_rust',\n",
              " 'Tomato___Septoria_leaf_spot',\n",
              " 'Orange___Haunglongbing_(Citrus_greening)',\n",
              " 'Potato___healthy',\n",
              " 'Cherry_(including_sour)___Powdery_mildew',\n",
              " 'Corn_(maize)___Common_rust_',\n",
              " 'Grape___healthy',\n",
              " 'Tomato___Tomato_Yellow_Leaf_Curl_Virus',\n",
              " 'Tomato___Leaf_Mold',\n",
              " 'Tomato___Tomato_mosaic_virus',\n",
              " 'Corn_(maize)___Northern_Leaf_Blight',\n",
              " 'Pepper,_bell___Bacterial_spot']"
            ]
          },
          "metadata": {},
          "execution_count": 26
        }
      ]
    },
    {
      "cell_type": "code",
      "source": [
        "separated_folders = {\n",
        "    \"healthy\": [\n",
        "        \"Strawberry leaf\",\n",
        "        \"Apple leaf\",\n",
        "        \"Raspberry leaf\",\n",
        "        \"Peach leaf\",\n",
        "        \"grape leaf\",\n",
        "        \"Soyabean leaf\",\n",
        "        \"Bell_pepper leaf\",\n",
        "        \"Cherry leaf\",\n",
        "        \"Tomato leaf\",\n",
        "        \"Blueberry leaf\",\n",
        "        \"Soybean___healthy\",\n",
        "        \"Apple___healthy\",\n",
        "        \"Strawberry___healthy\",\n",
        "        \"Peach___healthy\",\n",
        "        \"Tomato___healthy\",\n",
        "        \"Pepper,_bell___healthy\",\n",
        "        \"Corn_(maize)___healthy\",\n",
        "        \"Blueberry___healthy\",\n",
        "        \"Raspberry___healthy\",\n",
        "        \"Cherry_(including_sour)___healthy\",\n",
        "        \"Potato___healthy\",\n",
        "        \"Grape___healthy\"\n",
        "    ],\n",
        "    \"scab\": [\n",
        "        \"Apple Scab Leaf\",\n",
        "        \"Apple___Apple_scab\"\n",
        "    ],\n",
        "    \"yellow\": [\n",
        "        \"Tomato leaf yellow virus\",\n",
        "        \"Tomato___Tomato_Yellow_Leaf_Curl_Virus\"\n",
        "    ],\n",
        "    \"mildew\": [\n",
        "        \"Squash Powdery mildew leaf\",\n",
        "        \"Squash___Powdery_mildew\",\n",
        "        \"Cherry_(including_sour)___Powdery_mildew\"\n",
        "    ],\n",
        "    \"mold\": [\n",
        "        \"Tomato mold leaf\",\n",
        "        \"Tomato___Leaf_Mold\"\n",
        "    ],\n",
        "    \"blight\": [\n",
        "        \"Corn leaf blight\",\n",
        "        \"Potato leaf late blight\",\n",
        "        \"Tomato leaf late blight\",\n",
        "        \"Potato leaf early blight\",\n",
        "        \"Tomato Early blight leaf\",\n",
        "        \"Tomato___Late_blight\",\n",
        "        \"Potato___Early_blight\",\n",
        "        \"Potato___Late_blight\",\n",
        "        \"Grape___Leaf_blight_(Isariopsis_Leaf_Spot)\",\n",
        "        \"Tomato___Early_blight\",\n",
        "        \"Corn_(maize)___Northern_Leaf_Blight\"\n",
        "    ],\n",
        "    \"spot\": [\n",
        "        \"Bell_pepper leaf spot\",\n",
        "        \"Tomato leaf bacterial spot\",\n",
        "        \"Corn Gray leaf spot\",\n",
        "        \"Tomato two spotted spider mites leaf\",\n",
        "        \"Tomato Septoria leaf spot\",\n",
        "        \"Corn_(maize)___Cercospora_leaf_spot Gray_leaf_spot\",\n",
        "        \"Peach___Bacterial_spot\",\n",
        "        \"Tomato___Target_Spot\",\n",
        "        \"Tomato___Bacterial_spot\",\n",
        "        \"Tomato___Septoria_leaf_spot\",\n",
        "        \"Pepper,_bell___Bacterial_spot\"\n",
        "    ],\n",
        "    \"rust\": [\n",
        "        \"Corn rust leaf\",\n",
        "        \"Apple rust leaf\",\n",
        "        \"Apple___Cedar_apple_rust\",\n",
        "        \"Corn_(maize)___Common_rust_\"\n",
        "    ],\n",
        "    \"mosaic\": [\n",
        "        \"Tomato leaf mosaic virus\",\n",
        "        \"Tomato___Tomato_mosaic_virus\"\n",
        "    ],\n",
        "    \"spider_mites\": [\n",
        "        \"Tomato___Spider_mites Two-spotted_spider_mite\"\n",
        "    ],\n",
        "    \"rot\": [\n",
        "        \"grape leaf black rot\",\n",
        "        \"Apple___Black_rot\",\n",
        "        \"Grape___Black_rot\"\n",
        "    ]\n",
        "}"
      ],
      "metadata": {
        "id": "dnFHum1KiSsq"
      },
      "execution_count": null,
      "outputs": []
    },
    {
      "cell_type": "code",
      "source": [
        "import os\n",
        "import shutil\n",
        "\n",
        "# Define the source directory\n",
        "source_dir_1 = \"/content/PlantDoc-Dataset/train/\"\n",
        "source_dir_2 = \"/content/PlantVillage-Dataset/raw/color/\"\n",
        "dest_dir = \"/content/drive/MyDrive/Integrated Project II/dataset_PV_PD/all_data\"\n",
        "\n",
        "# Create target directories if they do not exist\n",
        "for category in separated_folders.keys():\n",
        "    os.makedirs(os.path.join(dest_dir, category), exist_ok=True)\n",
        "\n",
        "# Move files to the combined directories\n",
        "for category, folders in separated_folders.items():\n",
        "    target_dir = os.path.join(dest_dir, category)\n",
        "\n",
        "    for folder in folders:\n",
        "        folder_path = os.path.join(source_dir_1, folder)\n",
        "        if os.path.exists(folder_path):\n",
        "            for file_name in os.listdir(folder_path):\n",
        "                shutil.move(os.path.join(folder_path, file_name), target_dir)\n",
        "        else:\n",
        "            folder_path = os.path.join(source_dir_2, folder)\n",
        "            if os.path.exists(folder_path):\n",
        "                for file_name in os.listdir(folder_path):\n",
        "                    shutil.move(os.path.join(folder_path, file_name), target_dir)\n",
        "\n",
        "\n",
        "# List the combined directories to show the result\n",
        "combined_directories = os.listdir(dest_dir)\n",
        "combined_directories"
      ],
      "metadata": {
        "id": "C-k_7lQERac3"
      },
      "execution_count": null,
      "outputs": []
    },
    {
      "cell_type": "code",
      "source": [
        "import os\n",
        "\n",
        "dest_dir = \"/content/drive/MyDrive/Integrated Project II/dataset_PV_PD/all_data\"\n",
        "# Count the number of folders and the number of images in each folder\n",
        "folder_counts = {}\n",
        "for folder in os.listdir(dest_dir):\n",
        "    folder_path = os.path.join(dest_dir, folder)\n",
        "    if os.path.isdir(folder_path):\n",
        "        image_count = len([file for file in os.listdir(folder_path) if os.path.isfile(os.path.join(folder_path, file))])\n",
        "        folder_counts[folder] = image_count\n",
        "\n",
        "folder_counts"
      ],
      "metadata": {
        "colab": {
          "base_uri": "https://localhost:8080/"
        },
        "id": "QFv2DC2JaBWb",
        "outputId": "459b4677-e228-41d5-b850-da2d2b0b1a19"
      },
      "execution_count": null,
      "outputs": [
        {
          "output_type": "execute_result",
          "data": {
            "text/plain": [
              "{'healthy': 15844,\n",
              " 'scab': 713,\n",
              " 'yellow': 5427,\n",
              " 'mildew': 3011,\n",
              " 'mold': 1037,\n",
              " 'blight': 7536,\n",
              " 'spot': 9478,\n",
              " 'rust': 1652,\n",
              " 'mosaic': 417,\n",
              " 'spider_mites': 1676,\n",
              " 'rot': 1857}"
            ]
          },
          "metadata": {},
          "execution_count": 5
        }
      ]
    },
    {
      "cell_type": "code",
      "source": [
        "len(os.listdir(\"/content/drive/MyDrive/Integrated Project II/dataset_PV_PD/balanced_data/scab/\"))"
      ],
      "metadata": {
        "colab": {
          "base_uri": "https://localhost:8080/"
        },
        "id": "U46oZc1fzFGR",
        "outputId": "4016acdf-f0a0-4288-ba4d-cd439f755e36"
      },
      "execution_count": null,
      "outputs": [
        {
          "output_type": "execute_result",
          "data": {
            "text/plain": [
              "3984"
            ]
          },
          "metadata": {},
          "execution_count": 2
        }
      ]
    },
    {
      "cell_type": "code",
      "source": [
        "# !rm -r /content/PlantDoc-Dataset"
      ],
      "metadata": {
        "id": "xaAzyDGDaLKz"
      },
      "execution_count": null,
      "outputs": []
    },
    {
      "cell_type": "code",
      "source": [
        "import os\n",
        "import shutil\n",
        "import numpy as np\n",
        "from tensorflow.keras.preprocessing.image import ImageDataGenerator, img_to_array, load_img\n",
        "\n",
        "# Paths\n",
        "data_dir = '/content/drive/MyDrive/Integrated Project II/dataset_PV_PD/all_data/'\n",
        "balanced_data_dir = '/content/drive/MyDrive/Integrated Project II/dataset_PV_PD/data_balanced/'\n",
        "\n",
        "# Create directory for balanced data\n",
        "if not os.path.exists(balanced_data_dir):\n",
        "    os.makedirs(balanced_data_dir)\n",
        "\n",
        "# Function to copy files to new directory\n",
        "def copy_files(files, source_dir, dest_dir):\n",
        "    if not os.path.exists(dest_dir):\n",
        "        os.makedirs(dest_dir)\n",
        "    for file in files:\n",
        "        shutil.copy(os.path.join(source_dir, file), dest_dir)\n",
        "\n",
        "# Undersample 'healthy' class\n",
        "# healthy_files = os.listdir(os.path.join(data_dir, 'healthy'))\n",
        "# undersampled_healthy_files = np.random.choice(healthy_files, 5000, replace=False)\n",
        "# copy_files(undersampled_healthy_files, os.path.join(data_dir, 'healthy'), os.path.join(balanced_data_dir, 'healthy'))\n",
        "\n",
        "# Function for data augmentation\n",
        "def augment_images(class_name, num_samples):\n",
        "    datagen = ImageDataGenerator(\n",
        "        rotation_range=20,\n",
        "        width_shift_range=0.2,\n",
        "        height_shift_range=0.2,\n",
        "        shear_range=0.2,\n",
        "        zoom_range=0.2,\n",
        "        horizontal_flip=True,\n",
        "        fill_mode='nearest'\n",
        "    )\n",
        "\n",
        "    class_dir = os.path.join(data_dir, class_name)\n",
        "    save_dir = os.path.join(balanced_data_dir, class_name)\n",
        "    if not os.path.exists(save_dir):\n",
        "        os.makedirs(save_dir)\n",
        "\n",
        "    files = os.listdir(class_dir)\n",
        "    while len(os.listdir(save_dir)) < num_samples:\n",
        "        for file in files:\n",
        "            img = load_img(os.path.join(class_dir, file))\n",
        "            x = img_to_array(img)\n",
        "            x = x.reshape((1,) + x.shape)\n",
        "            for batch in datagen.flow(x, batch_size=1, save_to_dir=save_dir, save_prefix=class_name, save_format='jpeg'):\n",
        "                break\n",
        "            if len(os.listdir(save_dir)) >= num_samples:\n",
        "                break\n",
        "\n",
        "# Balance each class\n",
        "class_distribution = {\n",
        "    'healthy': 15844,\n",
        "    'scab': 713,\n",
        "    'yellow': 5427,\n",
        "    'mildew': 3011,\n",
        "    'mold': 1037,\n",
        "    'blight': 7536,\n",
        "    'spot': 9478,\n",
        "    'rust': 1652,\n",
        "    'mosaic': 417,\n",
        "    'spider_mites': 1676,\n",
        "    'rot': 1857\n",
        "}\n",
        "\n",
        "for class_name, count in class_distribution.items():\n",
        "    if class_name == 'mosaic':\n",
        "        augment_images(class_name, 700)"
      ],
      "metadata": {
        "id": "4QdqOAdnqhQg"
      },
      "execution_count": null,
      "outputs": []
    },
    {
      "cell_type": "code",
      "source": [
        "# copy the data to balanced data\n",
        "for class_name, count in class_distribution.items():\n",
        "    if class_name in ['mosaic']:\n",
        "        continue\n",
        "    else:\n",
        "        files = os.listdir(os.path.join(data_dir, class_name))[:1000]\n",
        "        copy_files(files, os.path.join(data_dir, class_name), os.path.join(balanced_data_dir, class_name))"
      ],
      "metadata": {
        "id": "e9iMiQez0aFZ"
      },
      "execution_count": null,
      "outputs": []
    },
    {
      "cell_type": "markdown",
      "source": [
        "# Validate the data path"
      ],
      "metadata": {
        "id": "xGZ-W6MI5YDW"
      }
    },
    {
      "cell_type": "code",
      "source": [
        "import os\n",
        "\n",
        "dest_dir = \"/content/drive/MyDrive/Integrated Project II/dataset_PV_PD/data_prepd/train\"\n",
        "# Count the number of folders and the number of images in each folder\n",
        "folder_counts = {}\n",
        "for folder in os.listdir(dest_dir):\n",
        "    folder_path = os.path.join(dest_dir, folder)\n",
        "    if os.path.isdir(folder_path):\n",
        "        image_count = len([file for file in os.listdir(folder_path) if os.path.isfile(os.path.join(folder_path, file))])\n",
        "        folder_counts[folder] = image_count\n",
        "\n",
        "folder_counts"
      ],
      "metadata": {
        "colab": {
          "base_uri": "https://localhost:8080/"
        },
        "id": "4VD63JX80IBp",
        "outputId": "e3658214-8857-4edf-ce05-adc9f0287a7c"
      },
      "execution_count": null,
      "outputs": [
        {
          "output_type": "execute_result",
          "data": {
            "text/plain": [
              "{'.ipynb_checkpoints': 0,\n",
              " 'mosaic': 560,\n",
              " 'healthy': 800,\n",
              " 'scab': 570,\n",
              " 'yellow': 800,\n",
              " 'mildew': 800,\n",
              " 'mold': 800,\n",
              " 'blight': 800,\n",
              " 'spot': 800,\n",
              " 'rust': 800,\n",
              " 'spider_mites': 800,\n",
              " 'rot': 800}"
            ]
          },
          "metadata": {},
          "execution_count": 13
        }
      ]
    },
    {
      "cell_type": "markdown",
      "source": [
        "# Classification - Model training"
      ],
      "metadata": {
        "id": "9y03kzmO5p16"
      }
    },
    {
      "cell_type": "code",
      "source": [
        "import os\n",
        "\n",
        "import shutil\n",
        "import numpy as np\n",
        "import pandas as pd\n",
        "import matplotlib.image as mpimg\n",
        "\n",
        "from zipfile import ZipFile\n",
        "from os import listdir, walk\n",
        "from os.path import isfile, join\n",
        "from tensorflow.keras import Input, Model\n",
        "from tensorflow.keras.applications import ResNet101V2, VGG19, Xception, InceptionV3\n",
        "from tensorflow.keras.applications.imagenet_utils import preprocess_input\n",
        "from tensorflow.keras.preprocessing.image import ImageDataGenerator, load_img, img_to_array\n",
        "from tensorflow.keras.layers import GlobalAveragePooling2D, Dense\n",
        "from tensorflow.keras.optimizers import Adam\n",
        "\n",
        "from sklearn.model_selection import train_test_split\n"
      ],
      "metadata": {
        "id": "ICXRl5RkB4er"
      },
      "execution_count": null,
      "outputs": []
    },
    {
      "cell_type": "code",
      "source": [
        "  IMG_SIZE = 224\n",
        "  # Create a data generator\n",
        "  datagen_train = ImageDataGenerator(\n",
        "      samplewise_center=True,  # set each sample mean to 0\n",
        "      # rotation_range=10,  # randomly rotate images in the range (degrees, 0 to 180)\n",
        "      # zoom_range=0.1,  # Randomly zoom image\n",
        "      # width_shift_range=0.1,  # randomly shift images horizontally (fraction of total width)\n",
        "      # height_shift_range=0.1,  # randomly shift images vertically (fraction of total height)\n",
        "      # horizontal_flip=True,  # randomly flip images\n",
        "      # vertical_flip=True,\n",
        "      rescale=1/255,\n",
        "  )\n",
        "\n",
        "  # No need to augment validation data\n",
        "  datagen_valid = ImageDataGenerator(\n",
        "      samplewise_center=True,\n",
        "      rescale=1/255,\n",
        "  )"
      ],
      "metadata": {
        "id": "WSzTvsdP5t1o"
      },
      "execution_count": null,
      "outputs": []
    },
    {
      "cell_type": "code",
      "source": [
        "# Constants\n",
        "IMG_SIZE = 224  # Set the target size for images\n",
        "src_path = \"/content/drive/MyDrive/Integrated Project II/dataset_PV_PD/data_balanced/\"\n",
        "data_dir = '/content/drive/MyDrive/Integrated Project II/dataset_PV_PD/data_prepd/'\n",
        "train_dir = os.path.join(data_dir, 'train')\n",
        "valid_dir = os.path.join(data_dir, 'test')\n",
        "\n",
        "# # Ensure the training and validation directories exist\n",
        "# os.makedirs(train_dir, exist_ok=True)\n",
        "# os.makedirs(valid_dir, exist_ok=True)\n",
        "\n",
        "# # Function to split data\n",
        "# def split_data(path, train_dir, valid_dir, test_size=0.2):\n",
        "#     # Each class has its own directory\n",
        "#     classes = os.listdir(src_path)\n",
        "\n",
        "#     print(classes)\n",
        "#     for cls in classes:\n",
        "#         print(cls)\n",
        "#         os.makedirs(os.path.join(train_dir, cls), exist_ok=True)\n",
        "#         os.makedirs(os.path.join(valid_dir, cls), exist_ok=True)\n",
        "#         # Get a list of pictures in each class\n",
        "#         src = os.path.join(src_path, cls)\n",
        "#         all_files = os.listdir(src)\n",
        "#         if len(all_files) == 0:\n",
        "#             print(src)\n",
        "#             continue\n",
        "\n",
        "#         # Train/test split\n",
        "#         train_files, valid_files = train_test_split(all_files, test_size=test_size, random_state=42)\n",
        "\n",
        "#         # Move files to the respective directories\n",
        "#         for f in train_files:\n",
        "#             try:\n",
        "#                 shutil.copy(os.path.join(src, f), os.path.join(train_dir, cls))\n",
        "#             except:\n",
        "#                 pass\n",
        "#         for f in valid_files:\n",
        "#             try:\n",
        "#                 shutil.copy(os.path.join(src, f), os.path.join(valid_dir, cls))\n",
        "#             except:\n",
        "#                 pass\n",
        "\n",
        "# # Applying the split function\n",
        "# split_data(data_dir, train_dir, valid_dir)"
      ],
      "metadata": {
        "id": "Y6rDT1IO5wHM"
      },
      "execution_count": null,
      "outputs": []
    },
    {
      "cell_type": "code",
      "source": [
        "# src = \"/content/drive/MyDrive/Integrated Project II/dataset_PV_PD/balanced_data/train/train/yellow\"\n",
        "# dest = \"/content/drive/MyDrive/Integrated Project II/dataset_PV_PD/balanced_data/yellow\"\n",
        "\n",
        "\n",
        "# # Move all files from src to dest\n",
        "# for filename in os.listdir(src):\n",
        "#     file_path = os.path.join(src, filename)  # Path to file in source directory\n",
        "#     shutil.move(file_path, dest)  # Move file to destination directory\n",
        "\n",
        "# print(\"Files moved successfully.\")"
      ],
      "metadata": {
        "colab": {
          "base_uri": "https://localhost:8080/"
        },
        "id": "TFqpY6UV-Kfh",
        "outputId": "e53fc726-e242-4b1f-c29c-21d969175816"
      },
      "execution_count": null,
      "outputs": [
        {
          "output_type": "stream",
          "name": "stdout",
          "text": [
            "Files moved successfully.\n"
          ]
        }
      ]
    },
    {
      "cell_type": "code",
      "source": [
        "# import os\n",
        "\n",
        "# def delete_if_empty(directory):\n",
        "#     # Check if the directory is empty\n",
        "#     if not os.listdir(directory):\n",
        "#         # If the directory is empty, remove it\n",
        "#         os.rmdir(directory)\n",
        "#         print(f\"Deleted empty directory: {directory}\")\n",
        "#     else:\n",
        "#         print(f\"Directory is not empty: {directory}\")\n",
        "\n",
        "# # Specify the directory to check\n",
        "# directory = \"/content/drive/MyDrive/Integrated Project II/dataset_PV_PD/balanced_data/train/train/yellow\"\n",
        "\n",
        "# # Call the function\n",
        "# delete_if_empty(directory)"
      ],
      "metadata": {
        "colab": {
          "base_uri": "https://localhost:8080/"
        },
        "id": "dj7uEnvw-oEA",
        "outputId": "4f48e8cb-250a-4a69-a658-5c07123a4261"
      },
      "execution_count": null,
      "outputs": [
        {
          "output_type": "stream",
          "name": "stdout",
          "text": [
            "Deleted empty directory: /content/drive/MyDrive/Integrated Project II/dataset_PV_PD/balanced_data/train/train/yellow\n"
          ]
        }
      ]
    },
    {
      "cell_type": "code",
      "source": [
        "# Setup the train and validation generators\n",
        "train_it = datagen_train.flow_from_directory(\n",
        "    train_dir,\n",
        "    target_size=(IMG_SIZE, IMG_SIZE),\n",
        "    color_mode='rgb',\n",
        "    class_mode='categorical',\n",
        "    batch_size=128,\n",
        "    shuffle=True\n",
        ")\n",
        "\n",
        "valid_it = datagen_valid.flow_from_directory(\n",
        "    valid_dir,\n",
        "    target_size=(IMG_SIZE, IMG_SIZE),\n",
        "    color_mode='rgb',\n",
        "    class_mode='categorical',\n",
        "    batch_size=128,\n",
        "    shuffle=False\n",
        ")"
      ],
      "metadata": {
        "colab": {
          "base_uri": "https://localhost:8080/"
        },
        "id": "YXRGO_Dt8G0H",
        "outputId": "8a4b626e-5da4-4773-e43f-8de1416737a6"
      },
      "execution_count": null,
      "outputs": [
        {
          "output_type": "stream",
          "name": "stdout",
          "text": [
            "Found 8330 images belonging to 12 classes.\n",
            "Found 2083 images belonging to 12 classes.\n"
          ]
        }
      ]
    },
    {
      "cell_type": "code",
      "source": [
        "base_model = ResNet101V2(\n",
        "    weights='imagenet',\n",
        "    input_shape=(IMG_SIZE, IMG_SIZE, 3),\n",
        "    include_top=False)\n",
        "\n",
        "base_model.trainable = False"
      ],
      "metadata": {
        "colab": {
          "base_uri": "https://localhost:8080/"
        },
        "id": "ZAhsnLVP5yrj",
        "outputId": "f083651d-6bb1-4a8d-a292-893b96f736ca"
      },
      "execution_count": null,
      "outputs": [
        {
          "output_type": "stream",
          "name": "stdout",
          "text": [
            "Downloading data from https://storage.googleapis.com/tensorflow/keras-applications/resnet/resnet101v2_weights_tf_dim_ordering_tf_kernels_notop.h5\n",
            "171317808/171317808 [==============================] - 9s 0us/step\n"
          ]
        }
      ]
    },
    {
      "cell_type": "code",
      "source": [
        "inputs = Input(shape=(IMG_SIZE, IMG_SIZE, 3))\n",
        "\n",
        "x = base_model(inputs, training=False)\n",
        "x = GlobalAveragePooling2D()(x)\n",
        "\n",
        "outputs = Dense(len(train_it.class_indices), activation = 'softmax')(x)\n",
        "\n",
        "model = Model(inputs, outputs)"
      ],
      "metadata": {
        "id": "6DUTsfVTKD9M"
      },
      "execution_count": null,
      "outputs": []
    },
    {
      "cell_type": "code",
      "source": [
        "model.compile(loss=\"categorical_crossentropy\", metrics=[\"accuracy\"])"
      ],
      "metadata": {
        "id": "dGKVkOycKFaZ"
      },
      "execution_count": null,
      "outputs": []
    },
    {
      "cell_type": "code",
      "source": [
        "model.fit(train_it,\n",
        "          validation_data=valid_it,\n",
        "          steps_per_epoch=train_it.samples/train_it.batch_size,\n",
        "          validation_steps=valid_it.samples/valid_it.batch_size,\n",
        "          epochs=10)"
      ],
      "metadata": {
        "colab": {
          "base_uri": "https://localhost:8080/"
        },
        "id": "Whx57DlGKHWR",
        "outputId": "378f8e23-3bf3-4fc4-e084-67f35c2fdb94"
      },
      "execution_count": null,
      "outputs": [
        {
          "output_type": "stream",
          "name": "stdout",
          "text": [
            "Epoch 1/10\n",
            "65/65 [==============================] - 7614s 117s/step - loss: 0.8567 - accuracy: 0.7483 - val_loss: 0.4065 - val_accuracy: 0.8829\n",
            "Epoch 2/10\n",
            "65/65 [==============================] - 42s 641ms/step - loss: 0.3312 - accuracy: 0.9013 - val_loss: 0.2802 - val_accuracy: 0.9093\n",
            "Epoch 3/10\n",
            "65/65 [==============================] - 42s 655ms/step - loss: 0.2378 - accuracy: 0.9277 - val_loss: 0.2397 - val_accuracy: 0.9203\n",
            "Epoch 4/10\n",
            "65/65 [==============================] - 42s 641ms/step - loss: 0.1901 - accuracy: 0.9444 - val_loss: 0.2266 - val_accuracy: 0.9198\n",
            "Epoch 5/10\n",
            "65/65 [==============================] - 42s 638ms/step - loss: 0.1563 - accuracy: 0.9553 - val_loss: 0.2039 - val_accuracy: 0.9304\n",
            "Epoch 6/10\n",
            "65/65 [==============================] - 42s 636ms/step - loss: 0.1368 - accuracy: 0.9604 - val_loss: 0.1727 - val_accuracy: 0.9438\n",
            "Epoch 7/10\n",
            "65/65 [==============================] - 42s 644ms/step - loss: 0.1201 - accuracy: 0.9666 - val_loss: 0.1710 - val_accuracy: 0.9419\n",
            "Epoch 8/10\n",
            "65/65 [==============================] - 42s 641ms/step - loss: 0.1086 - accuracy: 0.9683 - val_loss: 0.1559 - val_accuracy: 0.9477\n",
            "Epoch 9/10\n",
            "65/65 [==============================] - 41s 633ms/step - loss: 0.0952 - accuracy: 0.9748 - val_loss: 0.1601 - val_accuracy: 0.9458\n",
            "Epoch 10/10\n",
            "65/65 [==============================] - 42s 642ms/step - loss: 0.0858 - accuracy: 0.9764 - val_loss: 0.1697 - val_accuracy: 0.9438\n"
          ]
        },
        {
          "output_type": "execute_result",
          "data": {
            "text/plain": [
              "<keras.src.callbacks.History at 0x7bb7f4070970>"
            ]
          },
          "metadata": {},
          "execution_count": 9
        }
      ]
    },
    {
      "cell_type": "code",
      "source": [
        "model.evaluate(valid_it, steps=valid_it.samples/valid_it.batch_size)"
      ],
      "metadata": {
        "id": "i3RcY4McKJzJ"
      },
      "execution_count": null,
      "outputs": []
    },
    {
      "cell_type": "code",
      "source": [
        "model.save('/content/drive/MyDrive/Integrated Project II/inceptionV3_fine_tuned')"
      ],
      "metadata": {
        "id": "JeymmqvFKMFC"
      },
      "execution_count": null,
      "outputs": []
    },
    {
      "cell_type": "code",
      "source": [
        "model.save('/content/drive/MyDrive/Integrated Project II/my_model.h5')"
      ],
      "metadata": {
        "id": "pi8ph_iMKNZK"
      },
      "execution_count": null,
      "outputs": []
    }
  ]
}